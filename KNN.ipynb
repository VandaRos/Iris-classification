{
 "cells": [
  {
   "cell_type": "markdown",
   "metadata": {},
   "source": [
    "# KNN (K-nearest neighbors)\n",
    "<hr style=\"height:3px\">"
   ]
  },
  {
   "cell_type": "markdown",
   "metadata": {},
   "source": [
    "## Agenda"
   ]
  },
  {
   "cell_type": "markdown",
   "metadata": {},
   "source": [
    "* <b>What is the K-nearest neighbors classification model?\n",
    "* <b>How to choose the value of k?\n",
    "* <b>Calculating distance to predict outcome of data"
   ]
  },
  {
   "cell_type": "markdown",
   "metadata": {},
   "source": [
    "* <b>KNN is the simplest machine learning algorithm that is used for classification problem(supervised learnig). Whenever the model is fed with a testing data it find s the distance of that point with every ohter point in the traing data. then if finds nearest k members for the point. \n",
    "* <b>Choosing the value of k is very important, and the right value for k will help in imprving the accuracy of the modle. If we keep the value of k higher than it will help to reduce the variance, but it can lead to situatoin where the small patterns in data are missed out.\n",
    "* <b>Caculating distance: We can find the distance between two points by using the euclidean distance formular. \n",
    "<br>\n",
    "    <b>For example if we have two points P1(X1, Y1) and P2(X2, Y2)."
   ]
  },
  {
   "cell_type": "markdown",
   "metadata": {},
   "source": [
    "#### Formula:"
   ]
  },
  {
   "cell_type": "markdown",
   "metadata": {},
   "source": [
    "<b>$$d(P1,P2)=\\sqrt{(Y2-Y1)^2 + (X2-X1)^2}$$ $$d(P2,P1) = \\sqrt{(Y1-Y2)^2+(X1-X2)^2}$$"
   ]
  },
  {
   "cell_type": "markdown",
   "metadata": {},
   "source": [
    "<p style=\"font-size:15px\">$$d(P1,Pn)=\\sqrt{(sepal width1 - sepal width(n))^2 + (petal width1 - petal widht(n))^2 + (sepal length1 - sepal length(n))^2 + (petal length1 - petal length(n))^2}$$</p>"
   ]
  },
  {
   "cell_type": "markdown",
   "metadata": {},
   "source": [
    "### Now Consider a test data following 2 features Acid Durability and Stength:"
   ]
  },
  {
   "cell_type": "markdown",
   "metadata": {},
   "source": [
    "<table style=\"margin:0px;font-size:15px\">\n",
    "    <tr>\n",
    "        <th>NO</th>\n",
    "        <th>Acid Durability</th>\n",
    "        <th>Strength</th>\n",
    "        <th>Class</th>\n",
    "    </tr>\n",
    "    <tr>\n",
    "        <td>1</td>\n",
    "        <td>7</td>\n",
    "        <td>7</td>\n",
    "        <td>Bad</td>\n",
    "    </tr>\n",
    "    <tr>\n",
    "        <td>2</td>\n",
    "        <td>7</td>\n",
    "        <td>4</td>\n",
    "        <td>Bad</td>\n",
    "    </tr>\n",
    "    <tr>\n",
    "        <td>3</td>\n",
    "        <td>3</td>\n",
    "        <td>4</td>\n",
    "        <td>Good</td>\n",
    "    </tr>\n",
    "    <tr>\n",
    "        <td>4</td>\n",
    "        <td>1</td>\n",
    "        <td>4</td>\n",
    "        <td>Good</td>\n",
    "    </tr>\n",
    "    <tr>\n",
    "        <td>5</td>\n",
    "        <td>3</td>\n",
    "        <td>7</td>\n",
    "        <td>?</td>\n",
    "    </tr>\n",
    "</table>"
   ]
  },
  {
   "cell_type": "markdown",
   "metadata": {},
   "source": [
    "### Here is the outcome after we've been calculated all the distances between each row with the last row:"
   ]
  },
  {
   "cell_type": "markdown",
   "metadata": {},
   "source": [
    "<table style=\"margin:0px;font-size:15px\">\n",
    "    <tr>\n",
    "        <th>NO</th>\n",
    "        <th>Acid Durability</th>\n",
    "        <th>Strength</th>\n",
    "        <th>Class</th>\n",
    "        <th>Distance</th>\n",
    "    </tr>\n",
    "    <tr>\n",
    "        <td>1</td>\n",
    "        <td>7</td>\n",
    "        <td>7</td>\n",
    "        <td>Bad</td>\n",
    "        <td>4</td>\n",
    "    </tr>\n",
    "    <tr>\n",
    "        <td>2</td>\n",
    "        <td>7</td>\n",
    "        <td>4</td>\n",
    "        <td>Bad</td>\n",
    "        <td>5</td>\n",
    "    </tr>\n",
    "    <tr>\n",
    "        <td><font color=\"blue\">3</font></td>\n",
    "        <td><font color=\"blue\">3</font></td>\n",
    "        <td><font color=\"blue\">4</font></td>\n",
    "        <td><font color=\"blue\">Good</font></td>\n",
    "        <td><font color=\"blue\">3</font></td>\n",
    "    </tr>\n",
    "    <tr>\n",
    "        <td>4</td>\n",
    "        <td>1</td>\n",
    "        <td>4</td>\n",
    "        <td>Good</td>\n",
    "        <td>3.6</td>\n",
    "    </tr>\n",
    "</table>"
   ]
  },
  {
   "cell_type": "markdown",
   "metadata": {},
   "source": [
    "### Pro and cons of KNN"
   ]
  },
  {
   "cell_type": "markdown",
   "metadata": {},
   "source": [
    "#### Pros:\n",
    "    1. Simple implementation\n",
    "    2. Makes no prior assumption of the data\n",
    "#### Cons:\n",
    "    1. Predection time is very high as the model finds the destance with every data point."
   ]
  }
 ],
 "metadata": {
  "kernelspec": {
   "display_name": "Python 3",
   "language": "python",
   "name": "python3"
  },
  "language_info": {
   "codemirror_mode": {
    "name": "ipython",
    "version": 3
   },
   "file_extension": ".py",
   "mimetype": "text/x-python",
   "name": "python",
   "nbconvert_exporter": "python",
   "pygments_lexer": "ipython3",
   "version": "3.6.5"
  }
 },
 "nbformat": 4,
 "nbformat_minor": 2
}
